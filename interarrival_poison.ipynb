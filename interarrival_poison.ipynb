{
  "nbformat": 4,
  "nbformat_minor": 0,
  "metadata": {
    "colab": {
      "name": "interarrival_poison.ipynb",
      "provenance": [],
      "collapsed_sections": []
    },
    "kernelspec": {
      "name": "python3",
      "display_name": "Python 3"
    }
  },
  "cells": [
    {
      "cell_type": "markdown",
      "metadata": {
        "id": "oB9pOZUsWdh3"
      },
      "source": [
        "# **Calculating arrival time for 20 customer using poisson distribution random number**"
      ]
    },
    {
      "cell_type": "code",
      "metadata": {
        "id": "dliVCCdI20yY"
      },
      "source": [
        "#importing poisson method from scipy\r\n",
        "from scipy.stats import poisson"
      ],
      "execution_count": 18,
      "outputs": []
    },
    {
      "cell_type": "code",
      "metadata": {
        "id": "HjGfo5Lu3dNd",
        "colab": {
          "base_uri": "https://localhost:8080/"
        },
        "outputId": "6c512be2-ef6e-46ff-a4a2-ca7a91f87d92"
      },
      "source": [
        "#declering two list\r\n",
        "interArrivalTime =[]\r\n",
        "arrivalTime = []\r\n",
        "\r\n",
        "#generating random number by poisson distribution and assigining inter arrival time\r\n",
        "mu = 5.6\r\n",
        "for i in range (19):\r\n",
        "  n = poisson.rvs(mu)\r\n",
        "  interArrivalTime.append(n)\r\n",
        "\r\n",
        "#assigining first customer inter arrival time and arrival time as zero\r\n",
        "interArrivalTime.insert(0,0)\r\n",
        "arrivalTime.insert(0,0)\r\n",
        "\r\n",
        "#calculatim arrival time from 2nd customer to 20th customer\r\n",
        "for i in range (1,20):\r\n",
        "    arrivalTime.append(interArrivalTime[i] + arrivalTime[i-1])\r\n",
        "\r\n",
        "print(\"Customer No\\t Interarrival Time\\t Arrival Time\\n\")\r\n",
        "for i in range (1,21):\r\n",
        "  print(i ,\"\\t\\t\", interArrivalTime[i-1], \"\\t\\t\\t\", arrivalTime[i-1])\r\n",
        "\r\n"
      ],
      "execution_count": 75,
      "outputs": [
        {
          "output_type": "stream",
          "text": [
            "Customer No\t Interarrival Time\t Arrival Time\n",
            "\n",
            "1 \t\t 0 \t\t\t 0\n",
            "2 \t\t 3 \t\t\t 3\n",
            "3 \t\t 5 \t\t\t 8\n",
            "4 \t\t 7 \t\t\t 15\n",
            "5 \t\t 5 \t\t\t 20\n",
            "6 \t\t 3 \t\t\t 23\n",
            "7 \t\t 5 \t\t\t 28\n",
            "8 \t\t 6 \t\t\t 34\n",
            "9 \t\t 5 \t\t\t 39\n",
            "10 \t\t 8 \t\t\t 47\n",
            "11 \t\t 5 \t\t\t 52\n",
            "12 \t\t 2 \t\t\t 54\n",
            "13 \t\t 7 \t\t\t 61\n",
            "14 \t\t 7 \t\t\t 68\n",
            "15 \t\t 3 \t\t\t 71\n",
            "16 \t\t 3 \t\t\t 74\n",
            "17 \t\t 3 \t\t\t 77\n",
            "18 \t\t 3 \t\t\t 80\n",
            "19 \t\t 7 \t\t\t 87\n",
            "20 \t\t 5 \t\t\t 92\n"
          ],
          "name": "stdout"
        }
      ]
    },
    {
      "cell_type": "code",
      "metadata": {
        "id": "UVVZqnAMavuZ"
      },
      "source": [
        "import matplotlib.pyplot as plt"
      ],
      "execution_count": 72,
      "outputs": []
    },
    {
      "cell_type": "code",
      "metadata": {
        "colab": {
          "base_uri": "https://localhost:8080/"
        },
        "id": "uvwhlbpYbbh_",
        "outputId": "32900a0c-cb98-4c9c-afe7-58e800733d33"
      },
      "source": [
        "print(interArrivalTime)"
      ],
      "execution_count": 76,
      "outputs": [
        {
          "output_type": "stream",
          "text": [
            "[0, 3, 5, 7, 5, 3, 5, 6, 5, 8, 5, 2, 7, 7, 3, 3, 3, 3, 7, 5]\n"
          ],
          "name": "stdout"
        }
      ]
    },
    {
      "cell_type": "code",
      "metadata": {
        "colab": {
          "base_uri": "https://localhost:8080/",
          "height": 296
        },
        "id": "3FsgDrBaazoL",
        "outputId": "b1acf147-0ae4-42c0-8e95-fc7949f2aced"
      },
      "source": [
        "plt.plot(arrivalTime,  interArrivalTime)\r\n",
        "plt.xlabel('Arrival Time')\r\n",
        "plt.ylabel('Inter arrival Time')\r\n",
        "plt.show"
      ],
      "execution_count": 83,
      "outputs": [
        {
          "output_type": "execute_result",
          "data": {
            "text/plain": [
              "<function matplotlib.pyplot.show>"
            ]
          },
          "metadata": {
            "tags": []
          },
          "execution_count": 83
        },
        {
          "output_type": "display_data",
          "data": {
            "image/png": "[encoded data removed]",
            "text/plain": [
              "<Figure size 432x288 with 1 Axes>"
            ]
          },
          "metadata": {
            "tags": [],
            "needs_background": "light"
          }
        }
      ]
    },
    {
      "cell_type": "code",
      "metadata": {
        "id": "Svu-nny2h5rT"
      },
      "source": [
        "import seaborn as sns"
      ],
      "execution_count": 87,
      "outputs": []
    },
    {
      "cell_type": "code",
      "metadata": {
        "colab": {
          "base_uri": "https://localhost:8080/",
          "height": 350
        },
        "id": "y_dx5NpMdxKO",
        "outputId": "0135be19-b546-4e1a-cfdd-a5745b04fbc5"
      },
      "source": [
        "ax = sns.distplot(interArrivalTime,\r\n",
        "                  bins=30,\r\n",
        "                  kde=False,\r\n",
        "                  color='skyblue',\r\n",
        "                  hist_kws={\"linewidth\": 15,'alpha':1})\r\n",
        "ax.set(xlabel='Poisson Distribution', ylabel='Frequency')"
      ],
      "execution_count": 93,
      "outputs": [
        {
          "output_type": "stream",
          "text": [
            "/usr/local/lib/python3.7/dist-packages/seaborn/distributions.py:2557: FutureWarning: `distplot` is a deprecated function and will be removed in a future version. Please adapt your code to use either `displot` (a figure-level function with similar flexibility) or `histplot` (an axes-level function for histograms).\n",
            "  warnings.warn(msg, FutureWarning)\n"
          ],
          "name": "stderr"
        },
        {
          "output_type": "execute_result",
          "data": {
            "text/plain": [
              "[Text(0, 0.5, 'Frequency'), Text(0.5, 0, 'Poisson Distribution')]"
            ]
          },
          "metadata": {
            "tags": []
          },
          "execution_count": 93
        },
        {
          "output_type": "display_data",
          "data": {
            "image/png": "[encoded data removed]",
            "text/plain": [
              "<Figure size 432x288 with 1 Axes>"
            ]
          },
          "metadata": {
            "tags": [],
            "needs_background": "light"
          }
        }
      ]
    }
  ]
}